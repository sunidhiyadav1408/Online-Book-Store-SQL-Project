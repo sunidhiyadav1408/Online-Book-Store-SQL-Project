{
 "cells": [
  {
   "cell_type": "markdown",
   "id": "67fc0b39",
   "metadata": {
    "papermill": {
     "duration": 0.002161,
     "end_time": "2025-09-10T12:08:51.388905",
     "exception": false,
     "start_time": "2025-09-10T12:08:51.386744",
     "status": "completed"
    },
    "tags": []
   },
   "source": [
    "# 🚲 Divvy Bike Sharing Analysis – 2024\n",
    "\n",
    "## 📌 Project Overview  \n",
    "This project analyzes the **Divvy Bike Sharing dataset (2024)** with over **4.5 million ride records**.  \n",
    "Using **Excel Power Query & PivotTables**, I performed data cleaning, transformation, and trend analysis to uncover usage patterns.  \n",
    "The project concludes with an **interactive dashboard** built in Excel, showcasing monthly trends, peak hours, and rider behavior.  \n",
    "\n",
    "---\n",
    "\n",
    "## 📂 Dataset Information  \n",
    "- Source: [Divvy Bike Sharing](https://divvy-tripdata.s3.amazonaws.com/index.html)  \n",
    "- Year: **2024**  \n",
    "- File Size: ~4.5M rows (cleaned in Excel Power Query)  \n",
    "- Columns include:  \n",
    "  - Ride ID  \n",
    "  - Rideable Type  \n",
    "  - Started At / Ended At  \n",
    "  - Start & End Station (Name + ID)  \n",
    "  - Latitude / Longitude  \n",
    "  - Member Type (Member / Casual)  \n",
    "\n",
    "---\n",
    "\n",
    "## 🛠️ Data Cleaning (Excel Power Query)  \n",
    "1. Imported all 2024 monthly CSV files into **Power Query**.  \n",
    "2. Combined them into one large dataset (~4.5M records).  \n",
    "3. Removed duplicates, empty rows, and invalid timestamps.  \n",
    "4. Extracted new columns:  \n",
    "   - **Month**  \n",
    "   - **Day of Week**  \n",
    "   - **Hour**  \n",
    "   - **Trip Duration (Minutes)**  \n",
    "5. Ensured consistent data types (dates, numbers, text).  \n",
    "6. Loaded the cleaned dataset back into Excel.  \n",
    "\n",
    "---\n",
    "\n",
    "## 📊 Trend Analysis with PivotTables  \n",
    "\n",
    "### 🔹 Monthly Trends  \n",
    "- Pivot: **Year & Month** → Rows  \n",
    "- **Ride Count** → Values  \n",
    "- Result: Shows seasonality and peak riding months.  \n",
    "\n",
    "### 🔹 Day of Week Trends  \n",
    "- Pivot: **Day of Week** → Rows  \n",
    "- **Average Trip Duration** → Values  \n",
    "- Result: Reveals differences between weekdays vs weekends.  \n",
    "\n",
    "### 🔹 Peak Hours  \n",
    "- Pivot: **Hour of Day** → Rows  \n",
    "- **Ride Count** → Values  \n",
    "- Result: Identifies morning & evening commuting peaks.  \n",
    "\n",
    "### 🔹 Member vs Casual Riders  \n",
    "- Pivot: **Rider Type** → Rows  \n",
    "- **Month** → Columns  \n",
    "- **Ride Count** → Values  \n",
    "- Result: Compares annual patterns of casual vs members.  \n",
    "\n",
    "---\n",
    "\n",
    "## 📈 Dashboard Design (Excel)  \n",
    "An **interactive dashboard** was created in Excel with:  \n",
    "- PivotCharts for each trend analysis.  \n",
    "- **Slicers** for filtering by Rider Type, Month, and Bike Type.  \n",
    "- Clean and professional layout.  \n",
    "\n",
    "\n",
    "\n",
    "---\n",
    "\n",
    "## 📌 Key Insights  \n",
    "- Casual riders dominate during **summer months**, while members show **consistent year-round usage**.  \n",
    "- **Weekends** have longer average trip durations than weekdays.  \n",
    "- Peak usage occurs around **8 AM** and **5-6 PM**, reflecting commuting behavior.  \n",
    "- Members use bikes mainly for **daily commuting**, while casual users focus on **recreational rides**.  \n",
    "\n",
    "---\n",
    "\n",
    "## 🎯 Conclusion  \n",
    "This analysis demonstrates how **Excel Power Query & PivotTables** can handle millions of rows and still deliver powerful insights without coding.  \n",
    "The final dashboard allows stakeholders to explore ride trends interactively and make **data-driven business decisions**.  \n",
    "\n",
    "---\n",
    "\n"
   ]
  },
  {
   "cell_type": "markdown",
   "id": "a51b37c1",
   "metadata": {
    "_cell_guid": "b1076dfc-b9ad-4769-8c92-a6c4dae69d19",
    "_uuid": "8f2839f25d086af736a60e9eeb907d3b93b6e0e5",
    "execution": {
     "iopub.execute_input": "2025-08-30T08:07:59.123445Z",
     "iopub.status.busy": "2025-08-30T08:07:59.123051Z",
     "iopub.status.idle": "2025-08-30T08:08:00.794438Z",
     "shell.execute_reply": "2025-08-30T08:08:00.793406Z",
     "shell.execute_reply.started": "2025-08-30T08:07:59.123394Z"
    },
    "papermill": {
     "duration": 0.00143,
     "end_time": "2025-09-10T12:08:51.392204",
     "exception": false,
     "start_time": "2025-09-10T12:08:51.390774",
     "status": "completed"
    },
    "tags": []
   },
   "source": [
    "# This Python 3 environment comes with many helpful analytics libraries installed\n",
    "# It is defined by the kaggle/python Docker image: https://github.com/kaggle/docker-python\n",
    "# For example, here's several helpful packages to load\n",
    "\n",
    "import numpy as np # linear algebra\n",
    "import pandas as pd # data processing, CSV file I/O (e.g. pd.read_csv)\n",
    "\n",
    "# Input data files are available in the read-only \"../input/\" directory\n",
    "# For example, running this (by clicking run or pressing Shift+Enter) will list all files under the input directory\n",
    "\n",
    "import os\n",
    "for dirname, _, filenames in os.walk('/kaggle/input'):\n",
    "    for filename in filenames:\n",
    "        print(os.path.join(dirname, filename))\n",
    "\n",
    "# You can write up to 20GB to the current directory (/kaggle/working/) that gets preserved as output when you create a version using \"Save & Run All\" \n",
    "# You can also write temporary files to /kaggle/temp/, but they won't be saved outside of the current session"
   ]
  }
 ],
 "metadata": {
  "kaggle": {
   "accelerator": "none",
   "dataSources": [
    {
     "datasetId": 8170130,
     "sourceId": 12912232,
     "sourceType": "datasetVersion"
    }
   ],
   "dockerImageVersionId": 30746,
   "isGpuEnabled": false,
   "isInternetEnabled": false,
   "language": "python",
   "sourceType": "notebook"
  },
  "kernelspec": {
   "display_name": "Python 3",
   "language": "python",
   "name": "python3"
  },
  "language_info": {
   "codemirror_mode": {
    "name": "ipython",
    "version": 3
   },
   "file_extension": ".py",
   "mimetype": "text/x-python",
   "name": "python",
   "nbconvert_exporter": "python",
   "pygments_lexer": "ipython3",
   "version": "3.10.13"
  },
  "papermill": {
   "default_parameters": {},
   "duration": 4.03218,
   "end_time": "2025-09-10T12:08:51.815161",
   "environment_variables": {},
   "exception": null,
   "input_path": "__notebook__.ipynb",
   "output_path": "__notebook__.ipynb",
   "parameters": {},
   "start_time": "2025-09-10T12:08:47.782981",
   "version": "2.5.0"
  }
 },
 "nbformat": 4,
 "nbformat_minor": 5
}
